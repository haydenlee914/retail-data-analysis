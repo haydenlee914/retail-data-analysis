{
  "cells": [
    {
      "cell_type": "code",
      "execution_count": null,
      "metadata": {
        "colab": {
          "base_uri": "https://localhost:8080/"
        },
        "id": "VcNnfpGp4qPT",
        "outputId": "a53d55fd-9440-4742-8a95-1e26373b062d"
      },
      "outputs": [
        {
          "name": "stdout",
          "output_type": "stream",
          "text": [
            "Mounted at /content/drive\n"
          ]
        }
      ],
      "source": [
        "from google.colab import drive\n",
        "drive.mount('/content/drive')\n"
      ]
    },
    {
      "cell_type": "code",
      "execution_count": null,
      "metadata": {
        "colab": {
          "base_uri": "https://localhost:8080/"
        },
        "id": "YeuVsl0v50dK",
        "outputId": "fb94cfbc-a587-4c2c-f479-d4ab126aa0f1"
      },
      "outputs": [
        {
          "name": "stdout",
          "output_type": "stream",
          "text": [
            "Collecting pyspark\n",
            "  Downloading pyspark-3.5.1.tar.gz (317.0 MB)\n",
            "\u001b[2K     \u001b[90m━━━━━━━━━━━━━━━━━━━━━━━━━━━━━━━━━━━━━━━━\u001b[0m \u001b[32m317.0/317.0 MB\u001b[0m \u001b[31m4.4 MB/s\u001b[0m eta \u001b[36m0:00:00\u001b[0m\n",
            "\u001b[?25h  Preparing metadata (setup.py) ... \u001b[?25l\u001b[?25hdone\n",
            "Requirement already satisfied: py4j==0.10.9.7 in /usr/local/lib/python3.10/dist-packages (from pyspark) (0.10.9.7)\n",
            "Building wheels for collected packages: pyspark\n",
            "  Building wheel for pyspark (setup.py) ... \u001b[?25l\u001b[?25hdone\n",
            "  Created wheel for pyspark: filename=pyspark-3.5.1-py2.py3-none-any.whl size=317488493 sha256=bba17a360e9b1677c572962d111e2d85534e6a23ad06af633194668cbacb2eda\n",
            "  Stored in directory: /root/.cache/pip/wheels/80/1d/60/2c256ed38dddce2fdd93be545214a63e02fbd8d74fb0b7f3a6\n",
            "Successfully built pyspark\n",
            "Installing collected packages: pyspark\n",
            "Successfully installed pyspark-3.5.1\n"
          ]
        }
      ],
      "source": [
        "!pip install pyspark"
      ]
    },
    {
      "cell_type": "code",
      "execution_count": null,
      "metadata": {
        "colab": {
          "base_uri": "https://localhost:8080/"
        },
        "id": "fE_8cZqr42YR",
        "outputId": "a3c5f4be-32ee-498c-8a66-c91d0e4492d7"
      },
      "outputs": [
        {
          "name": "stdout",
          "output_type": "stream",
          "text": [
            "/content\n"
          ]
        }
      ],
      "source": [
        "!pwd"
      ]
    },
    {
      "cell_type": "code",
      "execution_count": null,
      "metadata": {
        "colab": {
          "base_uri": "https://localhost:8080/"
        },
        "id": "upuXAQ5745ZS",
        "outputId": "e699aca2-6dab-4554-f057-c68181ce65a0"
      },
      "outputs": [
        {
          "name": "stdout",
          "output_type": "stream",
          "text": [
            "trans_id,trans_dt,store_id,cust_id,prod_id,sales_amt,sales_qty,sales_wgt,prod_desc,prod_section,prod_category,prod_subcategory,prod_type,prod_mfc_brand_cd,prod_unit_qty_count,prod_count_uom,prod_uom_value\r\n",
            "170626010790603094,2017-06-26,1079,1129468649,20863017,6.99,1,0.0,YVES FALAFEL BALLS,Deli,Gourmet Foods,Gourmet Foods,Meat Alternatives,YVES,1.0,G,240.0\r\n",
            "170626010790603067,2017-06-26,1079,1048060135,20425475,12.09,1,0.0,ACSE LEMON AND LIME JUICER,Home,Kitchen Prep,Kitchen Gadgets,Baking & Cooking,ACSE,1.0,EA,1.0\r\n",
            "170626010790603073,2017-06-26,1079,1018749739,20842545,4.49,1,0.0,FROSTED FLAKES CEREAL,Grocery,Breakfast,Cereal Rte,Adult,KLGS,1.0,G,425.0\r\n",
            "170626010790603073,2017-06-26,1079,1018749739,20293336007,1.94,1,0.0,GM NANTUCKET MED ROAST KCUP,Grocery,Hot Beverages & Accessories,Coffee,Single Cup,KRIG,1.0,EA,12.0\r\n",
            "170626010790603050,2017-06-26,1079,1092380896,20664782003,5.99,1,0.0,PERRIER SLIM CANS LIME,Grocery,Cold Beverages,Water,Carbonated Flavor,PERI,10.0,ML,250.0\r\n",
            "170626010790603067,2017-06-26,1079,1048060135,20315581006,1.49,1,0.0,CL LEAF TUNA LT TOMATO ONION,Grocery,Canned,Canned Fish/Meat,Canned Tuna,CLVL,1.0,G,85.0\r\n",
            "170626010790603073,2017-06-26,1079,1018749739,20313447002,1.59,1,0.0,UNICO CHICK PEAS,Grocery,Canned,Canned Vegetables,Regular,UNIC,1.0,ML,540.0\r\n",
            "170626010790603073,2017-06-26,1079,1018749739,20299465005,1.75,1,0.0,UB FAST N FANCY CHKN FLAV RICE,Grocery,Meal Makers,Side Dish/Rice,Instant Side dishes,UNCL,1.0,G,165.0\r\n",
            "170626010790603067,2017-06-26,1079,1048060135,20827312,2.49,1,0.0,AL WADI BROWN COARSE BULGUR,Grocery,Meal Makers,Beans/Dried Vegetabl,Grains/Soup Mix,WADI,1.0,G,908.0\r\n"
          ]
        }
      ],
      "source": [
        "!head /content/drive/MyDrive/'Copy of final_table.csv'"
      ]
    },
    {
      "cell_type": "code",
      "execution_count": null,
      "metadata": {
        "id": "mCXvQd1c4_4g"
      },
      "outputs": [],
      "source": [
        "import pandas as pd\n",
        "from pyspark.sql import SparkSession\n",
        "\n",
        "\n",
        "# Replace 'your_data.csv' with the path to your dataset file\n",
        "# Since the file is large, consider reading it in chunks if necessary\n",
        "# df = pd.read_csv('your_data.csv', chunksize=100000)\n",
        "path = \"/content/drive/MyDrive/Copy of final_table.csv\"\n",
        "\n",
        "# Step 1: Initialize a SparkSession\n",
        "spark = SparkSession.builder \\\n",
        "    .appName(\"Convert to Parquet\") \\\n",
        "    .getOrCreate()\n",
        "\n",
        "# Step 2: Read the large dataset using PySpark\n",
        "# Replace 'path_to_your_large_dataset' with the actual path to your dataset.\n",
        "# The format can be changed depending on your data format (e.g., 'csv', 'json').\n",
        "df = spark.read.format('csv') \\\n",
        "    .option('header', 'true') \\\n",
        "    .option('inferSchema', 'true') \\\n",
        "    .load(path)\n",
        "\n",
        "# Step 3: Convert and save the dataset as a Parquet file\n",
        "# Replace 'path_to_save_parquet' with the actual path where you want to save the Parquet file.\n",
        "# df.write.parquet('./parquet')\n",
        "\n",
        "# Step 4: Read the Parquet file into a Pandas DataFrame\n",
        "# PySpark version 3.0.0 and above has a method toPandas() that automatically converts Spark DataFrame to Pandas DataFrame, but for large datasets, it's recommended to read directly from the file to manage memory better.\n",
        "# df.write.parquet('./parquet')\n",
        "\n",
        "# pandas_df = pd.read_parquet('./parquet', engine='fastparquet')"
      ]
    },
    {
      "cell_type": "code",
      "execution_count": null,
      "metadata": {
        "colab": {
          "base_uri": "https://localhost:8080/"
        },
        "id": "kio7XZ6K5qIf",
        "outputId": "986f164b-4bb3-487d-8f30-3b3e18544ee8"
      },
      "outputs": [
        {
          "name": "stdout",
          "output_type": "stream",
          "text": [
            "+------------------+----------+--------+----------+-----------+---------+---------+---------+--------------------+------------+--------------------+----------------+-----------------+-----------------+-------------------+--------------+--------------+\n",
            "|          trans_id|  trans_dt|store_id|   cust_id|    prod_id|sales_amt|sales_qty|sales_wgt|           prod_desc|prod_section|       prod_category|prod_subcategory|        prod_type|prod_mfc_brand_cd|prod_unit_qty_count|prod_count_uom|prod_uom_value|\n",
            "+------------------+----------+--------+----------+-----------+---------+---------+---------+--------------------+------------+--------------------+----------------+-----------------+-----------------+-------------------+--------------+--------------+\n",
            "|170626010790603094|2017-06-26|    1079|1129468649|   20863017|     6.99|        1|      0.0|  YVES FALAFEL BALLS|        Deli|       Gourmet Foods|   Gourmet Foods|Meat Alternatives|             YVES|                1.0|             G|         240.0|\n",
            "|170626010790603067|2017-06-26|    1079|1048060135|   20425475|    12.09|        1|      0.0|ACSE LEMON AND LI...|        Home|        Kitchen Prep| Kitchen Gadgets| Baking & Cooking|             ACSE|                1.0|            EA|           1.0|\n",
            "|170626010790603073|2017-06-26|    1079|1018749739|   20842545|     4.49|        1|      0.0|FROSTED FLAKES CE...|     Grocery|           Breakfast|      Cereal Rte|            Adult|             KLGS|                1.0|             G|         425.0|\n",
            "|170626010790603073|2017-06-26|    1079|1018749739|20293336007|     1.94|        1|      0.0|GM NANTUCKET MED ...|     Grocery|Hot Beverages & A...|          Coffee|       Single Cup|             KRIG|                1.0|            EA|          12.0|\n",
            "|170626010790603050|2017-06-26|    1079|1092380896|20664782003|     5.99|        1|      0.0|PERRIER SLIM CANS...|     Grocery|      Cold Beverages|           Water|Carbonated Flavor|             PERI|               10.0|            ML|         250.0|\n",
            "+------------------+----------+--------+----------+-----------+---------+---------+---------+--------------------+------------+--------------------+----------------+-----------------+-----------------+-------------------+--------------+--------------+\n",
            "only showing top 5 rows\n",
            "\n"
          ]
        }
      ],
      "source": [
        "df.show(5)"
      ]
    },
    {
      "cell_type": "code",
      "execution_count": null,
      "metadata": {
        "id": "bUhX93o17tfO"
      },
      "outputs": [],
      "source": [
        "# df.write.parquet('./parquet')\n",
        "# pandas_df = pd.read_parquet('./parquet', engine='fastparquet')"
      ]
    },
    {
      "cell_type": "code",
      "execution_count": null,
      "metadata": {
        "colab": {
          "base_uri": "https://localhost:8080/"
        },
        "id": "qnge7phC7tu-",
        "outputId": "b40e623c-6d20-4933-b484-6826aac142ef"
      },
      "outputs": [
        {
          "name": "stdout",
          "output_type": "stream",
          "text": [
            "Number of unique stores: 58\n"
          ]
        }
      ],
      "source": [
        "# Select the unique store_ids and count them\n",
        "unique_stores_count = df.select(\"store_id\").distinct().count()\n",
        "\n",
        "print(\"Number of unique stores:\", unique_stores_count)"
      ]
    },
    {
      "cell_type": "code",
      "execution_count": null,
      "metadata": {
        "colab": {
          "base_uri": "https://localhost:8080/"
        },
        "id": "K4IDA3uzjYDL",
        "outputId": "9aad0fae-fe90-4789-9d33-7a42fed018df"
      },
      "outputs": [
        {
          "name": "stdout",
          "output_type": "stream",
          "text": [
            "Top stores by revenue:\n",
            "+--------+--------------------+\n",
            "|store_id|       total_revenue|\n",
            "+--------+--------------------+\n",
            "|    1212|1.0651950299998906E7|\n",
            "|    1050|   9526095.269999478|\n",
            "|    1007|   8788538.759999854|\n",
            "|    1004|    8544597.63999998|\n",
            "|    1066|   8430151.460000057|\n",
            "|    1021|   8327886.240000117|\n",
            "|    1035|   7947683.870000289|\n",
            "|    1027|   7308581.490000578|\n",
            "|    1188|   7047047.000000761|\n",
            "|    1011|   6982799.220000594|\n",
            "|    1040|   6787875.020000796|\n",
            "|    1051|   6411543.120000845|\n",
            "|    1114|   6361870.640000747|\n",
            "|    1016|    6270114.49000075|\n",
            "|    1019|   6199663.010000778|\n",
            "|    1029|   6060483.960000788|\n",
            "|    1028|   6009527.590000684|\n",
            "|    1014|   5885459.650000732|\n",
            "|    1001|   5841673.250000653|\n",
            "|    1079|  5751749.3800006695|\n",
            "+--------+--------------------+\n",
            "only showing top 20 rows\n",
            "\n",
            "Bottom stores by revenue:\n",
            "+--------+------------------+\n",
            "|store_id|     total_revenue|\n",
            "+--------+------------------+\n",
            "|    5264|1409.4099999999999|\n",
            "|    1223|           1720.67|\n",
            "|    1214|            2654.9|\n",
            "|    1220|2674.1799999999994|\n",
            "|    1211|           3690.05|\n",
            "|    1227|           3986.34|\n",
            "|    1217|           4174.44|\n",
            "|    1222|           5067.45|\n",
            "|    1210| 5694.360000000001|\n",
            "|    1231| 5742.970000000001|\n",
            "|    1213|5826.1100000000015|\n",
            "|    1221|           6958.78|\n",
            "|    1142|1130024.1900000297|\n",
            "|    1179| 1728043.050000091|\n",
            "|    1200|1828468.8400000774|\n",
            "|    1174|2312897.7600000273|\n",
            "|    1023| 2404439.190000016|\n",
            "|    1154| 2431191.860000013|\n",
            "|    1208|2452100.5100000193|\n",
            "|    1132| 2653452.289999989|\n",
            "+--------+------------------+\n",
            "only showing top 20 rows\n",
            "\n"
          ]
        }
      ],
      "source": [
        "from pyspark.sql import functions as F\n",
        "\n",
        "# Aggregate data by store_id to calculate total revenue per store\n",
        "store_revenue = df.groupBy(\"store_id\") \\\n",
        "    .agg(F.sum(\"sales_amt\").alias(\"total_revenue\")) \\\n",
        "    .sort(\"total_revenue\", ascending=False)\n",
        "\n",
        "# Display the top stores by revenue\n",
        "print(\"Top stores by revenue:\")\n",
        "store_revenue.show()\n",
        "\n",
        "# Display the bottom stores by revenue\n",
        "print(\"Bottom stores by revenue:\")\n",
        "store_revenue.sort(\"total_revenue\", ascending=True).show()\n"
      ]
    },
    {
      "cell_type": "code",
      "execution_count": null,
      "metadata": {
        "colab": {
          "base_uri": "https://localhost:8080/"
        },
        "id": "AET3hj_sfmYf",
        "outputId": "937757d4-fc28-4176-98c2-ddbb2ee9ffa9"
      },
      "outputs": [
        {
          "name": "stdout",
          "output_type": "stream",
          "text": [
            "Top stores by transaction volume:\n",
            "+--------+------------------+\n",
            "|store_id|transaction_volume|\n",
            "+--------+------------------+\n",
            "|    1212|           1962183|\n",
            "|    1007|           1758017|\n",
            "|    1050|           1755499|\n",
            "|    1004|           1555537|\n",
            "|    1066|           1509869|\n",
            "|    1021|           1455833|\n",
            "|    1035|           1404113|\n",
            "|    1027|           1363141|\n",
            "|    1040|           1285805|\n",
            "|    1188|           1282754|\n",
            "|    1011|           1200371|\n",
            "|    1051|           1172923|\n",
            "|    1019|           1171206|\n",
            "|    1016|           1166595|\n",
            "|    1114|           1160444|\n",
            "|    1010|           1113772|\n",
            "|    1029|           1113192|\n",
            "|    1000|           1087753|\n",
            "|    1014|           1080052|\n",
            "|    1079|           1056372|\n",
            "+--------+------------------+\n",
            "only showing top 20 rows\n",
            "\n",
            "Bottom stores by transaction volume:\n",
            "+--------+------------------+\n",
            "|store_id|transaction_volume|\n",
            "+--------+------------------+\n",
            "|    1231|               683|\n",
            "|    1223|               787|\n",
            "|    1214|              1004|\n",
            "|    1213|              1010|\n",
            "|    1211|              1240|\n",
            "|    1222|              1573|\n",
            "|    1227|              1711|\n",
            "|    1220|              1743|\n",
            "|    1217|              2063|\n",
            "|    1210|              2067|\n",
            "|    1221|              2108|\n",
            "|    5264|              2479|\n",
            "|    1142|            257921|\n",
            "|    1179|            374802|\n",
            "|    1200|            381607|\n",
            "|    1208|            434757|\n",
            "|    1023|            459568|\n",
            "|    1174|            475611|\n",
            "|    1154|            494558|\n",
            "|    1132|            558448|\n",
            "+--------+------------------+\n",
            "only showing top 20 rows\n",
            "\n"
          ]
        }
      ],
      "source": [
        "# Aggregate data by store_id to calculate the number of transactions per store\n",
        "store_transactions = df.groupBy(\"store_id\") \\\n",
        "    .agg(F.count(\"trans_id\").alias(\"transaction_volume\")) \\\n",
        "    .sort(\"transaction_volume\", ascending=False)\n",
        "\n",
        "# Display the top stores by transaction volume\n",
        "print(\"Top stores by transaction volume:\")\n",
        "store_transactions.show()\n",
        "\n",
        "# Display the bottom stores by transaction volume\n",
        "print(\"Bottom stores by transaction volume:\")\n",
        "store_transactions.sort(\"transaction_volume\", ascending=True).show()\n"
      ]
    },
    {
      "cell_type": "code",
      "execution_count": null,
      "metadata": {
        "colab": {
          "base_uri": "https://localhost:8080/"
        },
        "id": "UqekgG56fmaj",
        "outputId": "029dd5be-fa69-42f7-96c1-6f6edbd0244f"
      },
      "outputs": [],
      "source": [
        "from pyspark.sql import functions as F\n",
        "\n",
        "# df = df.withColumn(\"trans_dt\", F.to_date(\"trans_dt\", \"yyyy-MM-dd\"))\n",
        "filtered_df = df.filter(F.col(\"trans_dt\") >= F.lit(\"2020-02-01\"))\n",
        "\n",
        "count = filtered_df.count()\n"
      ]
    },
    {
      "cell_type": "code",
      "execution_count": null,
      "metadata": {
        "id": "oLSz-_Ogfmcp"
      },
      "outputs": [],
      "source": [
        "acse_data = df.filter(df.prod_mfc_brand_cd == \"ACSE\")"
      ]
    },
    {
      "cell_type": "code",
      "execution_count": null,
      "metadata": {
        "id": "g21DLL6TfmgH"
      },
      "outputs": [],
      "source": [
        "# Get the first transaction date for each store\n",
        "first_transaction_per_store = acse_data.groupBy(\"store_id\").agg(F.min(\"trans_dt\").alias(\"first_trans_date\")).orderBy(\"first_trans_date\")\n",
        "\n",
        "# Convert to Pandas for plotting\n",
        "first_transaction_per_store_pd = first_transaction_per_store.toPandas()\n",
        "\n",
        "# Convert dates to datetime format\n",
        "first_transaction_per_store_pd['first_trans_date'] = pd.to_datetime(first_transaction_per_store_pd['first_trans_date'])\n",
        "\n",
        "# Sort dataframe by date\n",
        "first_transaction_per_store_pd = first_transaction_per_store_pd.sort_values(by='first_trans_date')\n",
        "\n",
        "# Calculate the cumulative number of stores over time\n",
        "first_transaction_per_store_pd['cumulative_stores'] = first_transaction_per_store_pd['first_trans_date'].expanding().count()"
      ]
    },
    {
      "cell_type": "code",
      "execution_count": null,
      "metadata": {
        "id": "JSyz6Ibbo1Sz"
      },
      "outputs": [],
      "source": [
        "# Aggregate revenue by transaction date\n",
        "revenue_over_time = acse_data.groupBy(\"trans_dt\").agg(F.sum(\"sales_amt\").alias(\"daily_revenue\"))\n",
        "\n",
        "# Convert to Pandas for plotting\n",
        "revenue_over_time_pd = revenue_over_time.toPandas()\n",
        "revenue_over_time_pd['trans_dt'] = pd.to_datetime(revenue_over_time_pd['trans_dt'])"
      ]
    },
    {
      "cell_type": "code",
      "execution_count": null,
      "metadata": {
        "id": "oV6OpwU_o1U6"
      },
      "outputs": [],
      "source": [
        "# Count transactions by date\n",
        "transactions_over_time = acse_data.groupBy(\"trans_dt\").count().withColumnRenamed(\"count\", \"daily_transactions\")\n",
        "\n",
        "# Convert to Pandas for plotting\n",
        "transactions_over_time_pd = transactions_over_time.toPandas()\n",
        "transactions_over_time_pd['trans_dt'] = pd.to_datetime(transactions_over_time_pd['trans_dt'])"
      ]
    },
    {
      "cell_type": "code",
      "execution_count": null,
      "metadata": {
        "id": "JMtZBh8qo1XG"
      },
      "outputs": [],
      "source": [
        "# Get the first transaction date for each customer\n",
        "first_transaction_per_customer = acse_data.groupBy(\"cust_id\").agg(F.min(\"trans_dt\").alias(\"first_trans_date\")).orderBy(\"first_trans_date\")\n",
        "\n",
        "# Convert to Pandas for plotting\n",
        "first_transaction_per_customer_pd = first_transaction_per_customer.toPandas()\n",
        "first_transaction_per_customer_pd['first_trans_date'] = pd.to_datetime(first_transaction_per_customer_pd['first_trans_date'])\n",
        "\n",
        "# Calculate the cumulative number of new customers over time\n",
        "first_transaction_per_customer_pd['cumulative_customers'] = first_transaction_per_customer_pd['first_trans_date'].expanding().count()"
      ]
    },
    {
      "cell_type": "code",
      "execution_count": null,
      "metadata": {
        "colab": {
          "base_uri": "https://localhost:8080/",
          "height": 564
        },
        "id": "AQb54c7Qo1al",
        "outputId": "39b5816d-f88f-4268-e117-db969a8d399b"
      },
      "outputs": [
        {
          "data": {
            "image/png": "[encoded data removed]",
            "text/plain": [
              "<Figure size 1000x600 with 1 Axes>"
            ]
          },
          "metadata": {},
          "output_type": "display_data"
        }
      ],
      "source": [
        "import matplotlib.pyplot as plt\n",
        "\n",
        "# Plot cumulative number of stores\n",
        "plt.figure(figsize=(10, 6))\n",
        "plt.plot(first_transaction_per_store_pd['first_trans_date'], first_transaction_per_store_pd['cumulative_stores'], marker='o', linestyle='-')\n",
        "plt.title('Cumulative Number of Stores Over Time')\n",
        "plt.xlabel('Date')\n",
        "plt.ylabel('Cumulative Stores')\n",
        "plt.grid(True)\n",
        "plt.show()"
      ]
    },
    {
      "cell_type": "code",
      "execution_count": null,
      "metadata": {
        "id": "_M3yq4C1FxKR"
      },
      "outputs": [],
      "source": [
        "from pyspark.sql import functions as F\n",
        "\n",
        "# Count unique products per store\n",
        "products_per_store = df.groupBy(\"store_id\").agg(F.countDistinct(\"prod_id\").alias(\"unique_products\"))\n",
        "\n",
        "# Calculate the average number of unique products per store\n",
        "avg_products_per_store = products_per_store.agg(F.avg(\"unique_products\").alias(\"average_unique_products\"))\n",
        "\n",
        "avg_products_per_store.show()"
      ]
    },
    {
      "cell_type": "code",
      "execution_count": null,
      "metadata": {
        "id": "4eSPjRS5FxMl"
      },
      "outputs": [],
      "source": [
        "# Show basic statistics for the distribution\n",
        "products_per_store.describe(\"unique_products\").show()\n",
        "\n",
        "products_per_store_pd = products_per_store.toPandas()\n",
        "import matplotlib.pyplot as plt\n",
        "\n",
        "plt.figure(figsize=(10, 6))\n",
        "plt.hist(products_per_store_pd['unique_products'], bins=20, alpha=0.7, color='blue', edgecolor='black')\n",
        "plt.title('Distribution of Unique Products per Store')\n",
        "plt.xlabel('Number of Unique Products')\n",
        "plt.ylabel('Frequency')\n",
        "plt.grid(axis='y', alpha=0.75)\n",
        "plt.show()"
      ]
    },
    {
      "cell_type": "code",
      "execution_count": null,
      "metadata": {
        "id": "lOqR5uGqFxPC"
      },
      "outputs": [],
      "source": [
        "from pyspark.sql import functions as F\n",
        "unique_products_per_store = df.groupBy(\"store_id\").agg(\n",
        "    F.countDistinct(\"prod_id\").alias(\"unique_products\")\n",
        ")\n",
        "total_revenue_per_store = df.groupBy(\"store_id\").agg(\n",
        "    F.sum(\"sales_amt\").alias(\"total_revenue\")\n",
        ")\n",
        "\n",
        "store_performance = unique_products_per_store.join(\n",
        "    total_revenue_per_store, \"store_id\"\n",
        ")\n"
      ]
    },
    {
      "cell_type": "code",
      "execution_count": null,
      "metadata": {
        "id": "rjdHJMA7FxRQ"
      },
      "outputs": [],
      "source": [
        "# Assume each unique product represents 10 square feet of store space\n",
        "store_performance = store_performance.withColumn(\n",
        "    \"estimated_store_size\", F.col(\"unique_products\") * 10\n",
        ")\n",
        "\n",
        "store_performance = store_performance.withColumn(\n",
        "    \"revenue_per_sq_ft\", F.col(\"total_revenue\") / F.col(\"estimated_store_size\")\n",
        ")\n",
        "\n",
        "best_performing_store = store_performance.orderBy(\"revenue_per_sq_ft\", ascending=False)\n",
        "\n",
        "best_performing_store.show()"
      ]
    },
    {
      "cell_type": "code",
      "execution_count": null,
      "metadata": {
        "id": "iWwuELHcFxT8"
      },
      "outputs": [],
      "source": [
        "# Calculate average number of unique products across all stores\n",
        "avg_unique_products_all_stores = unique_products_per_store.agg(\n",
        "    F.avg(\"unique_products\").alias(\"avg_unique_products\")\n",
        ").collect()[0]['avg_unique_products']\n",
        "\n",
        "# Filter best stores and calculate their average unique products\n",
        "avg_unique_products_best_stores = unique_products_per_store.filter(\n",
        "    unique_products_per_store.store_id.isin(best_stores)\n",
        ").agg(\n",
        "    F.avg(\"unique_products\").alias(\"avg_unique_products_best_stores\")\n",
        ").collect()[0]['avg_unique_products_best_stores']\n",
        "\n",
        "print(f\"Average unique products across all stores: {avg_unique_products_all_stores}\")\n",
        "print(f\"Average unique products in best stores: {avg_unique_products_best_stores}\")\n"
      ]
    },
    {
      "cell_type": "code",
      "execution_count": null,
      "metadata": {
        "id": "UC1Y3kooFxWC"
      },
      "outputs": [],
      "source": [
        "# Calculate average revenue across all stores\n",
        "avg_revenue_all_stores = total_revenue_per_store.agg(\n",
        "    F.avg(\"total_revenue\").alias(\"avg_revenue\")\n",
        ").collect()[0]['avg_revenue']\n",
        "\n",
        "# Filter best stores and calculate their average revenue\n",
        "avg_revenue_best_stores = total_revenue_per_store.filter(\n",
        "    total_revenue_per_store.store_id.isin(best_stores)\n",
        ").agg(\n",
        "    F.avg(\"total_revenue\").alias(\"avg_revenue_best_stores\")\n",
        ").collect()[0]['avg_revenue_best_stores']\n",
        "\n",
        "print(f\"Average revenue across all stores: {avg_revenue_all_stores}\")\n",
        "print(f\"Average revenue in best stores: {avg_revenue_best_stores}\")\n"
      ]
    },
    {
      "cell_type": "code",
      "execution_count": null,
      "metadata": {
        "id": "sUnrafJ1FxZs"
      },
      "outputs": [],
      "source": [
        "best_stores_sales = df.filter(df.store_id.isin(best_stores))\n",
        "\n",
        "# Aggregate sales by product to find best-selling products\n",
        "best_selling_products = best_stores_sales.groupBy(\"prod_id\").agg(\n",
        "    F.sum(\"sales_amt\").alias(\"total_sales\")\n",
        ").orderBy(\"total_sales\", ascending=False)\n",
        "\n",
        "# Aggregate sales by product category to find best-selling categories\n",
        "best_selling_categories = best_stores_sales.groupBy(\"prod_category\").agg(\n",
        "    F.sum(\"sales_amt\").alias(\"total_sales\")\n",
        ").orderBy(\"total_sales\", ascending=False)\n",
        "\n",
        "best_selling_products.show()\n",
        "best_selling_categories.show()\n"
      ]
    }
  ],
  "metadata": {
    "colab": {
      "provenance": []
    },
    "kernelspec": {
      "display_name": "Python 3",
      "name": "python3"
    },
    "language_info": {
      "name": "python"
    }
  },
  "nbformat": 4,
  "nbformat_minor": 0
}
